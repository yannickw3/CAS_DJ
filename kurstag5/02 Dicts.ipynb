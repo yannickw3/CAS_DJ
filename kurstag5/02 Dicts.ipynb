{
 "cells": [
  {
   "cell_type": "markdown",
   "metadata": {},
   "source": [
    "## Dictionaries in Python\n",
    "\n",
    "Dictionaries sind unglaublich praktisch, damit kannst du z. B. folgendes machen:\n",
    "\n",
    "- Du kannst Wertezuordnungen speichern (z.B. Telefonbuch: Ein Nachname hat eine Telefonnummer).\n",
    "- Du kannst nachträglich Elemente verändern / entfernen / hinzufügen.\n",
    "- Dictionaries brauchst du wirklich immer wieder...\n",
    "\n",
    "Machen wir mal ein Beispiel..."
   ]
  },
  {
   "cell_type": "code",
   "execution_count": 42,
   "metadata": {},
   "outputs": [],
   "source": [
    "d = {\"Berlin\": \"BER\", \"Helsinki\": \"HEL\", \"Saigon\": \"SGN\"}   # diese Klammern {} auf Tastatur >  alt 8\n",
    "                                                            # \"Berlin\" = key, \"BER\" = value"
   ]
  },
  {
   "cell_type": "code",
   "execution_count": 4,
   "metadata": {},
   "outputs": [
    {
     "name": "stdout",
     "output_type": "stream",
     "text": [
      "{'Berlin': 'BER', 'Helsinki': 'HEL', 'Saigon': 'SGN'}\n"
     ]
    }
   ],
   "source": [
    "print(d)"
   ]
  },
  {
   "cell_type": "markdown",
   "metadata": {},
   "source": [
    "Zugriff auf ein einzelnes Element:"
   ]
  },
  {
   "cell_type": "code",
   "execution_count": 6,
   "metadata": {},
   "outputs": [
    {
     "name": "stdout",
     "output_type": "stream",
     "text": [
      "HEL\n"
     ]
    }
   ],
   "source": [
    "print(d[\"Helsinki\"])   # Hier wieder die Listen-Klammer > []"
   ]
  },
  {
   "cell_type": "code",
   "execution_count": 23,
   "metadata": {},
   "outputs": [],
   "source": [
    "teilnehmer = {\"Thierry\": \"männlich\", \"Denise\": \"weiblich\", \"Ralf\": \"männlich\"}"
   ]
  },
  {
   "cell_type": "code",
   "execution_count": 24,
   "metadata": {},
   "outputs": [
    {
     "name": "stdout",
     "output_type": "stream",
     "text": [
      "{'Thierry': 'männlich', 'Denise': 'weiblich', 'Ralf': 'männlich'}\n"
     ]
    }
   ],
   "source": [
    "print(teilnehmer)"
   ]
  },
  {
   "cell_type": "code",
   "execution_count": 25,
   "metadata": {},
   "outputs": [
    {
     "name": "stdout",
     "output_type": "stream",
     "text": [
      "weiblich\n"
     ]
    }
   ],
   "source": [
    "print(teilnehmer[\"Denise\"])"
   ]
  },
  {
   "cell_type": "markdown",
   "metadata": {},
   "source": [
    "Hiermit fügst du ein einzelnes Element hinzu:"
   ]
  },
  {
   "cell_type": "code",
   "execution_count": 26,
   "metadata": {},
   "outputs": [],
   "source": [
    "d[\"Budapest\"] = \"BUD\""
   ]
  },
  {
   "cell_type": "code",
   "execution_count": 27,
   "metadata": {},
   "outputs": [
    {
     "name": "stdout",
     "output_type": "stream",
     "text": [
      "{'Berlin': 'BER', 'Helsinki': 'HEL', 'Saigon': 'SGN', 'Budapest': 'BUD'}\n"
     ]
    }
   ],
   "source": [
    "print(d)"
   ]
  },
  {
   "cell_type": "code",
   "execution_count": 28,
   "metadata": {},
   "outputs": [],
   "source": [
    "teilnehmer[\"Michael\"] = \"männlich\""
   ]
  },
  {
   "cell_type": "code",
   "execution_count": 29,
   "metadata": {},
   "outputs": [
    {
     "name": "stdout",
     "output_type": "stream",
     "text": [
      "{'Thierry': 'männlich', 'Denise': 'weiblich', 'Ralf': 'männlich', 'Michael': 'männlich'}\n"
     ]
    }
   ],
   "source": [
    "print(teilnehmer)"
   ]
  },
  {
   "cell_type": "code",
   "execution_count": 30,
   "metadata": {},
   "outputs": [],
   "source": [
    "teilnehmer[\"Thierry\"] = \"weiblich\""
   ]
  },
  {
   "cell_type": "code",
   "execution_count": 31,
   "metadata": {},
   "outputs": [
    {
     "data": {
      "text/plain": [
       "{'Thierry': 'weiblich',\n",
       " 'Denise': 'weiblich',\n",
       " 'Ralf': 'männlich',\n",
       " 'Michael': 'männlich'}"
      ]
     },
     "execution_count": 31,
     "metadata": {},
     "output_type": "execute_result"
    }
   ],
   "source": [
    "teilnehmer"
   ]
  },
  {
   "cell_type": "markdown",
   "metadata": {},
   "source": [
    "## Übung"
   ]
  },
  {
   "cell_type": "markdown",
   "metadata": {},
   "source": [
    "Legt ein eigenes Dict für die schweiz an mit den Flughäfen und den Abkürzungen. "
   ]
  },
  {
   "cell_type": "markdown",
   "metadata": {},
   "source": [
    "## Element entfernen"
   ]
  },
  {
   "cell_type": "code",
   "execution_count": 9,
   "metadata": {
    "collapsed": true
   },
   "outputs": [],
   "source": [
    "del d[\"Budapest\"]"
   ]
  },
  {
   "cell_type": "code",
   "execution_count": 10,
   "metadata": {},
   "outputs": [
    {
     "name": "stdout",
     "output_type": "stream",
     "text": [
      "{'Berlin': 'BER', 'Helsinki': 'HEL', 'Saigon': 'SGN'}\n"
     ]
    }
   ],
   "source": [
    "print(d)"
   ]
  },
  {
   "cell_type": "markdown",
   "metadata": {},
   "source": [
    "## Abfrage: Ist ein Element im Dictionary?"
   ]
  },
  {
   "cell_type": "code",
   "execution_count": 11,
   "metadata": {},
   "outputs": [
    {
     "name": "stdout",
     "output_type": "stream",
     "text": [
      "Saigon ist im Dicionary enthalten\n"
     ]
    }
   ],
   "source": [
    "if \"Budapest\" in d:\n",
    "    print(\"Budapest ist im Dictionary enthalten\")\n",
    "if \"Saigon\" in d:\n",
    "    print(\"Saigon ist im Dicionary enthalten\")"
   ]
  },
  {
   "cell_type": "code",
   "execution_count": 36,
   "metadata": {},
   "outputs": [
    {
     "name": "stdout",
     "output_type": "stream",
     "text": [
      "Michael ist auf der Liste.\n",
      "Too bad, Yannick hombre.\n"
     ]
    }
   ],
   "source": [
    "if \"Michael\" in teilnehmer:\n",
    "    print(\"Michael ist auf der Liste.\")\n",
    "    \n",
    "if \"Yannick\" not in teilnehmer:\n",
    "    print(\"Too bad, Yannick hombre.\")"
   ]
  },
  {
   "cell_type": "markdown",
   "metadata": {},
   "source": [
    "## Auf Elemente zugreifen..."
   ]
  },
  {
   "cell_type": "code",
   "execution_count": 16,
   "metadata": {},
   "outputs": [
    {
     "name": "stdout",
     "output_type": "stream",
     "text": [
      "SGN\n",
      "SGN\n"
     ]
    }
   ],
   "source": [
    "print(d[\"Saigon\"])\n",
    "print(d.get(\"Saigon\"))"
   ]
  },
  {
   "cell_type": "markdown",
   "metadata": {},
   "source": [
    "Warum sollte man get nutzen? Man kann doch auch einfach so drauf zugreifen? Die Lösung ist einfach aber sehr praktisch. Fehlertoleranz."
   ]
  },
  {
   "cell_type": "code",
   "execution_count": 37,
   "metadata": {},
   "outputs": [
    {
     "data": {
      "text/plain": [
       "{'Berlin': 'BER', 'Helsinki': 'HEL', 'Saigon': 'SGN', 'Budapest': 'BUD'}"
      ]
     },
     "execution_count": 37,
     "metadata": {},
     "output_type": "execute_result"
    }
   ],
   "source": [
    "d"
   ]
  },
  {
   "cell_type": "code",
   "execution_count": 18,
   "metadata": {},
   "outputs": [
    {
     "ename": "KeyError",
     "evalue": "'Budapest'",
     "output_type": "error",
     "traceback": [
      "\u001b[0;31m---------------------------------------------------------------------------\u001b[0m",
      "\u001b[0;31mKeyError\u001b[0m                                  Traceback (most recent call last)",
      "\u001b[0;32m<ipython-input-18-9a8194eb0769>\u001b[0m in \u001b[0;36m<module>\u001b[0;34m()\u001b[0m\n\u001b[0;32m----> 1\u001b[0;31m \u001b[0mprint\u001b[0m\u001b[0;34m(\u001b[0m\u001b[0md\u001b[0m\u001b[0;34m[\u001b[0m\u001b[0;34m\"Budapest\"\u001b[0m\u001b[0;34m]\u001b[0m\u001b[0;34m)\u001b[0m\u001b[0;34m\u001b[0m\u001b[0m\n\u001b[0m",
      "\u001b[0;31mKeyError\u001b[0m: 'Budapest'"
     ]
    }
   ],
   "source": [
    "print(d[\"Budapest\"])  # diesen Fehler zeigt es an, wenn Budapest zwischenzeitlich aus dictionary entfernt wurde"
   ]
  },
  {
   "cell_type": "code",
   "execution_count": 19,
   "metadata": {
    "scrolled": true
   },
   "outputs": [
    {
     "name": "stdout",
     "output_type": "stream",
     "text": [
      "None\n"
     ]
    }
   ],
   "source": [
    "print(d.get(\"Budapest\"))"
   ]
  },
  {
   "cell_type": "markdown",
   "metadata": {},
   "source": [
    "## Dictionaries und Schleifen\n",
    "\n",
    "Du hast bei Dictionaries 2 Möglichkeiten, diese mit einer for - Schleife durchzugehen.\n",
    "\n",
    "Entweder direkt, dann gehst du die Schlüssel durch:"
   ]
  },
  {
   "cell_type": "code",
   "execution_count": 5,
   "metadata": {},
   "outputs": [
    {
     "name": "stdout",
     "output_type": "stream",
     "text": [
      "München\n",
      "MUC\n",
      "Budapest\n",
      "BUD\n",
      "Helsinki\n",
      "HEL\n"
     ]
    }
   ],
   "source": [
    "d = {\"München\": \"MUC\", \"Budapest\": \"BUD\", \"Helsinki\": \"HEL\"}\n",
    "\n",
    "for key in d: \n",
    "    value = d[key]\n",
    "    print(key)\n",
    "    print(value)"
   ]
  },
  {
   "cell_type": "code",
   "execution_count": 39,
   "metadata": {},
   "outputs": [
    {
     "name": "stdout",
     "output_type": "stream",
     "text": [
      "{'Thierry': 'weiblich', 'Denise': 'weiblich', 'Ralf': 'männlich', 'Michael': 'männlich'}\n"
     ]
    }
   ],
   "source": [
    "print(teilnehmer)"
   ]
  },
  {
   "cell_type": "code",
   "execution_count": 41,
   "metadata": {},
   "outputs": [
    {
     "name": "stdout",
     "output_type": "stream",
     "text": [
      "Thierry\n",
      "weiblich\n",
      "Denise\n",
      "weiblich\n",
      "Ralf\n",
      "männlich\n",
      "Michael\n",
      "männlich\n"
     ]
    }
   ],
   "source": [
    "for key in teilnehmer: \n",
    "    value = teilnehmer[key]\n",
    "    print(key)\n",
    "    print(value)"
   ]
  },
  {
   "cell_type": "markdown",
   "metadata": {},
   "source": [
    "Oder über die .items() - Methode, damit kannst du Schlüssel + Wert direkt durchgehen:"
   ]
  },
  {
   "cell_type": "code",
   "execution_count": 8,
   "metadata": {
    "scrolled": true
   },
   "outputs": [
    {
     "name": "stdout",
     "output_type": "stream",
     "text": [
      "München: MUC\n",
      "Budapest: BUD\n",
      "Helsinki: HEL\n"
     ]
    }
   ],
   "source": [
    "for key, value in d.items():\n",
    "    print(key + \": \" + value)"
   ]
  },
  {
   "cell_type": "code",
   "execution_count": 43,
   "metadata": {},
   "outputs": [
    {
     "name": "stdout",
     "output_type": "stream",
     "text": [
      "Thierry: weiblich\n",
      "Denise: weiblich\n",
      "Ralf: männlich\n",
      "Michael: männlich\n"
     ]
    }
   ],
   "source": [
    "for key, value in teilnehmer.items():\n",
    "    print(key + \": \" + value)"
   ]
  },
  {
   "cell_type": "markdown",
   "metadata": {},
   "source": [
    "## Übung \n",
    "Wie oft kommt jedes Wort in der liste vor?"
   ]
  },
  {
   "cell_type": "code",
   "execution_count": 46,
   "metadata": {},
   "outputs": [
    {
     "name": "stdout",
     "output_type": "stream",
     "text": [
      "{'Hallo': 3, 'Welt': 1, 'Mars': 1}\n"
     ]
    }
   ],
   "source": [
    "liste = [\"Hallo\", \"Hallo\", \"Welt\", \"Hallo\", \"Mars\"]\n",
    "\n",
    "d = {}\n",
    "\n",
    "for begruessung in liste:\n",
    "    if begruessung in d:\n",
    "        d[begruessung] = d[begruessung] + 1\n",
    "    else:\n",
    "        d[begruessung] = 1\n",
    "    \n",
    "    \n",
    "print(d)"
   ]
  },
  {
   "cell_type": "markdown",
   "metadata": {},
   "source": [
    "## Übung Hardcore"
   ]
  },
  {
   "cell_type": "markdown",
   "metadata": {},
   "source": [
    "Für diejenigen die eine Herausforderung suchen, gibts hier auch einen echten datensatz. http://p3.snf.ch/Pages/DataAndDocumentation.aspx"
   ]
  },
  {
   "cell_type": "code",
   "execution_count": 61,
   "metadata": {},
   "outputs": [],
   "source": [
    "import requests\n",
    "import csv\n",
    "data = requests.get(\"http://p3.snf.ch/P3Export/P3_PersonExport.csv\").text.splitlines()\n",
    "personen = csv.DictReader(data,delimiter=';')"
   ]
  },
  {
   "cell_type": "markdown",
   "metadata": {},
   "source": [
    "### So sieht ein Datensatz aus:"
   ]
  },
  {
   "cell_type": "code",
   "execution_count": 69,
   "metadata": {},
   "outputs": [
    {
     "data": {
      "text/plain": [
       "OrderedDict([('Last Name', 'Auderset'),\n",
       "             ('First Name', 'Dominique'),\n",
       "             ('Gender', 'female'),\n",
       "             ('Institute Name',\n",
       "              \"Lab. d'Ecologie et de Biologie Aquatique Institut des Sciences de l'Environnement Université de Genève\"),\n",
       "             ('Institute Place', 'Carouge'),\n",
       "             ('Person ID SNSF', '8406'),\n",
       "             ('ORCID', ''),\n",
       "             ('Projects as responsible Applicant', ''),\n",
       "             ('Projects as Applicant', '8521'),\n",
       "             ('Projects as Partner', ''),\n",
       "             ('Projects as Practice Partner', ''),\n",
       "             ('Projects as Employee', '8521'),\n",
       "             ('Projects as Contact Person', '')])"
      ]
     },
     "execution_count": 69,
     "metadata": {},
     "output_type": "execute_result"
    }
   ],
   "source": [
    "next(personen)"
   ]
  },
  {
   "cell_type": "markdown",
   "metadata": {},
   "source": [
    "Welche Institute hatten die meisten beiteiligten Personen?"
   ]
  },
  {
   "cell_type": "code",
   "execution_count": 3,
   "metadata": {},
   "outputs": [],
   "source": [
    "# institutes = {}\n",
    "# for row in personen:\n",
    "# dein code hier"
   ]
  }
 ],
 "metadata": {
  "kernelspec": {
   "display_name": "Python 3",
   "language": "python",
   "name": "python3"
  },
  "language_info": {
   "codemirror_mode": {
    "name": "ipython",
    "version": 3
   },
   "file_extension": ".py",
   "mimetype": "text/x-python",
   "name": "python",
   "nbconvert_exporter": "python",
   "pygments_lexer": "ipython3",
   "version": "3.7.0"
  }
 },
 "nbformat": 4,
 "nbformat_minor": 2
}
