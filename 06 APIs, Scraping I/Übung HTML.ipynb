{
 "cells": [
  {
   "cell_type": "code",
   "execution_count": 24,
   "metadata": {},
   "outputs": [
    {
     "name": "stdout",
     "output_type": "stream",
     "text": [
      "\u001b[34m06 APIs, Scraping I\u001b[m\u001b[m          erdbeben_september\r\n",
      "Anleitung API_Requests.ipynb test.html\r\n",
      "\u001b[34mGithub\u001b[m\u001b[m                       Übung HTML.ipynb\r\n",
      "\u001b[34mÜbungs-Dokumente\u001b[m\u001b[m\r\n"
     ]
    }
   ],
   "source": [
    "!ls   # test.html ist eine HTML-Textdatei, die wir angelegt haben, um die Arbeit mit Beatiful Soup zu illustrieren"
   ]
  },
  {
   "cell_type": "code",
   "execution_count": 47,
   "metadata": {},
   "outputs": [],
   "source": [
    "file = open('test.html', 'r')   # open('Name von File', 'r' für read) oder open('Name von File', 'w' für write/bearbeiten)"
   ]
  },
  {
   "cell_type": "code",
   "execution_count": 48,
   "metadata": {},
   "outputs": [
    {
     "data": {
      "text/plain": [
       "<_io.TextIOWrapper name='test.html' mode='r' encoding='UTF-8'>"
      ]
     },
     "execution_count": 48,
     "metadata": {},
     "output_type": "execute_result"
    }
   ],
   "source": [
    "file"
   ]
  },
  {
   "cell_type": "code",
   "execution_count": 49,
   "metadata": {},
   "outputs": [
    {
     "data": {
      "text/plain": [
       "'<!DOCTYPE html>\\n<html>\\n<title>HTML Tutorial</title>\\n<body>\\n<h1>Das ist ein Titel</h1>\\n<p>Das ist ein Text</p>\\n\\n<ul>\\n  <li>Punkt 1  </li>\\n  <li>Punkt 2</li>\\n  <li>Punkt 3</li>\\n</ul>\\n\\n</body>\\n</html>\\n'"
      ]
     },
     "execution_count": 49,
     "metadata": {},
     "output_type": "execute_result"
    }
   ],
   "source": [
    "file.read()"
   ]
  },
  {
   "cell_type": "code",
   "execution_count": 50,
   "metadata": {},
   "outputs": [],
   "source": [
    "f = open('test.html', 'r').read()"
   ]
  },
  {
   "cell_type": "code",
   "execution_count": 51,
   "metadata": {},
   "outputs": [
    {
     "data": {
      "text/plain": [
       "'<!DOCTYPE html>\\n<html>\\n<title>HTML Tutorial</title>\\n<body>\\n<h1>Das ist ein Titel</h1>\\n<p>Das ist ein Text</p>\\n\\n<ul>\\n  <li>Punkt 1  </li>\\n  <li>Punkt 2</li>\\n  <li>Punkt 3</li>\\n</ul>\\n\\n</body>\\n</html>\\n'"
      ]
     },
     "execution_count": 51,
     "metadata": {},
     "output_type": "execute_result"
    }
   ],
   "source": [
    "f"
   ]
  },
  {
   "cell_type": "code",
   "execution_count": 52,
   "metadata": {},
   "outputs": [
    {
     "name": "stdout",
     "output_type": "stream",
     "text": [
      "Requirement already satisfied: bs4 in /Users/yannick/.virtualenvs/virtuelle_umgebung/lib/python3.7/site-packages (0.0.1)\r\n",
      "Requirement already satisfied: beautifulsoup4 in /Users/yannick/.virtualenvs/virtuelle_umgebung/lib/python3.7/site-packages (from bs4) (4.6.3)\r\n"
     ]
    }
   ],
   "source": [
    "!pip install bs4   # Beautiful Soup installieren, um Daten aus HTML auszulesen"
   ]
  },
  {
   "cell_type": "code",
   "execution_count": 53,
   "metadata": {},
   "outputs": [],
   "source": [
    "from bs4 import BeautifulSoup"
   ]
  },
  {
   "cell_type": "code",
   "execution_count": 54,
   "metadata": {},
   "outputs": [],
   "source": [
    "soup = BeautifulSoup(f, 'html.parser')   # BeautifulSoup(Text/File/hier die oben definierte Variable, Format)"
   ]
  },
  {
   "cell_type": "code",
   "execution_count": 55,
   "metadata": {},
   "outputs": [
    {
     "data": {
      "text/plain": [
       "<!DOCTYPE html>\n",
       "\n",
       "<html>\n",
       "<title>HTML Tutorial</title>\n",
       "<body>\n",
       "<h1>Das ist ein Titel</h1>\n",
       "<p>Das ist ein Text</p>\n",
       "<ul>\n",
       "<li>Punkt 1  </li>\n",
       "<li>Punkt 2</li>\n",
       "<li>Punkt 3</li>\n",
       "</ul>\n",
       "</body>\n",
       "</html>"
      ]
     },
     "execution_count": 55,
     "metadata": {},
     "output_type": "execute_result"
    }
   ],
   "source": [
    "soup"
   ]
  },
  {
   "cell_type": "code",
   "execution_count": 56,
   "metadata": {},
   "outputs": [
    {
     "data": {
      "text/plain": [
       "[<li>Punkt 1  </li>, <li>Punkt 2</li>, <li>Punkt 3</li>]"
      ]
     },
     "execution_count": 56,
     "metadata": {},
     "output_type": "execute_result"
    }
   ],
   "source": [
    "soup.find_all('li')   # in Klammer das, was einem interessiert innerhalb des Files"
   ]
  },
  {
   "cell_type": "code",
   "execution_count": 59,
   "metadata": {},
   "outputs": [
    {
     "name": "stdout",
     "output_type": "stream",
     "text": [
      "Punkt 1  \n",
      "Punkt 2\n",
      "Punkt 3\n"
     ]
    }
   ],
   "source": [
    "neue_liste = []\n",
    "for element in soup.find_all('li'):\n",
    "    print(element.text)\n",
    "    neue_liste.append(element.text)"
   ]
  },
  {
   "cell_type": "code",
   "execution_count": 58,
   "metadata": {},
   "outputs": [
    {
     "name": "stdout",
     "output_type": "stream",
     "text": [
      "Punkt 1  \n",
      "Punkt 2\n",
      "Punkt 3\n"
     ]
    }
   ],
   "source": [
    "for element in soup.find_all('li'):\n",
    "    print(element.text)\n",
    "    neue_liste.append(element.text.strip())   # falls Leerschläge, die man weghaben will > strip()"
   ]
  },
  {
   "cell_type": "code",
   "execution_count": null,
   "metadata": {},
   "outputs": [],
   "source": []
  }
 ],
 "metadata": {
  "kernelspec": {
   "display_name": "Python 3",
   "language": "python",
   "name": "python3"
  },
  "language_info": {
   "codemirror_mode": {
    "name": "ipython",
    "version": 3
   },
   "file_extension": ".py",
   "mimetype": "text/x-python",
   "name": "python",
   "nbconvert_exporter": "python",
   "pygments_lexer": "ipython3",
   "version": "3.7.0"
  }
 },
 "nbformat": 4,
 "nbformat_minor": 2
}
